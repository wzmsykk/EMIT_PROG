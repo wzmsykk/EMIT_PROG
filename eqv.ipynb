{
 "cells": [
  {
   "cell_type": "code",
   "execution_count": 2,
   "id": "00b55bb6",
   "metadata": {},
   "outputs": [],
   "source": [
    "from math import sqrt\n",
    "import numpy as np"
   ]
  },
  {
   "cell_type": "code",
   "execution_count": 25,
   "id": "ca01a1fb",
   "metadata": {},
   "outputs": [],
   "source": [
    "def b2k(energy,b):\n",
    "    \"\"\"\n",
    "    将磁场梯度转换为聚焦参数k\n",
    "    energy: 电子能量(MeV)\n",
    "    b: 磁场梯度(T/m)\n",
    "    \"\"\"\n",
    "    energy=energy\n",
    "    c=299792458  # 光速(m/s)\n",
    "    m0=0.511 ###电子静止质量(MeV)\n",
    "    gamma=(m0+energy) /m0\n",
    "    print(f\"gamma={gamma}\")\n",
    "    beta=sqrt(1-1/(gamma**2))\n",
    "    print(f\"beta={beta}\")\n",
    "    k=b*c/(energy*beta*1E6)\n",
    "    return k"
   ]
  },
  {
   "cell_type": "code",
   "execution_count": 26,
   "id": "ac1686c1",
   "metadata": {},
   "outputs": [
    {
     "name": "stdout",
     "output_type": "stream",
     "text": [
      "gamma=613.5244618395303\n",
      "beta=0.9999986716683323\n"
     ]
    },
    {
     "data": {
      "text/plain": [
       "2.8820341992940994"
      ]
     },
     "execution_count": 26,
     "metadata": {},
     "output_type": "execute_result"
    }
   ],
   "source": [
    "b2k(313.0,3.009)"
   ]
  },
  {
   "cell_type": "code",
   "execution_count": 3,
   "id": "deeaad79",
   "metadata": {},
   "outputs": [
    {
     "data": {
      "text/plain": [
       "array([1.        , 0.5       , 0.33333333, 0.25      , 0.2       ])"
      ]
     },
     "execution_count": 3,
     "metadata": {},
     "output_type": "execute_result"
    }
   ],
   "source": [
    "a=np.array([1,2,3,4,5])\n",
    "1/a"
   ]
  },
  {
   "cell_type": "code",
   "execution_count": null,
   "id": "68a4a49c",
   "metadata": {},
   "outputs": [],
   "source": []
  }
 ],
 "metadata": {
  "kernelspec": {
   "display_name": "base",
   "language": "python",
   "name": "python3"
  },
  "language_info": {
   "codemirror_mode": {
    "name": "ipython",
    "version": 3
   },
   "file_extension": ".py",
   "mimetype": "text/x-python",
   "name": "python",
   "nbconvert_exporter": "python",
   "pygments_lexer": "ipython3",
   "version": "3.12.7"
  }
 },
 "nbformat": 4,
 "nbformat_minor": 5
}
